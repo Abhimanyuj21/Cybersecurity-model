{
  "nbformat": 4,
  "nbformat_minor": 0,
  "metadata": {
    "colab": {
      "provenance": []
    },
    "kernelspec": {
      "name": "python3",
      "display_name": "Python 3"
    },
    "language_info": {
      "name": "python"
    }
  },
  "cells": [
    {
      "cell_type": "code",
      "execution_count": 1,
      "metadata": {
        "colab": {
          "base_uri": "https://localhost:8080/"
        },
        "id": "jQ2GF8ZaLe1Q",
        "outputId": "62aea342-ff0f-44d0-c4a6-21797cc06c40"
      },
      "outputs": [
        {
          "output_type": "stream",
          "name": "stdout",
          "text": [
            "Number of characters in the URL: 36\n"
          ]
        }
      ],
      "source": [
        "def count_characters_in_url(url):\n",
        "    # Remove any whitespace from the URL\n",
        "    url = url.strip()\n",
        "    # Count the number of characters in the URL\n",
        "    num_characters = len(url)\n",
        "    return num_characters\n",
        "\n",
        "# Example usage:\n",
        "url = \"https://www.example.com/path/to/page\"\n",
        "num_characters = count_characters_in_url(url)\n",
        "print(\"Number of characters in the URL:\", num_characters)"
      ]
    },
    {
      "cell_type": "code",
      "source": [
        "def count_characters_in_url(url):\n",
        "    return len(url)\n",
        "\n",
        "# Example usage:\n",
        "url = \"https://www.example.com/path/to/page\"\n",
        "num_characters = count_characters_in_url(url)\n",
        "print(\"Number of characters in the URL:\", num_characters)"
      ],
      "metadata": {
        "colab": {
          "base_uri": "https://localhost:8080/"
        },
        "id": "ugA-jti6LvJ6",
        "outputId": "1a236780-6541-41c1-ec34-361b6049b039"
      },
      "execution_count": 2,
      "outputs": [
        {
          "output_type": "stream",
          "name": "stdout",
          "text": [
            "Number of characters in the URL: 36\n"
          ]
        }
      ]
    },
    {
      "cell_type": "code",
      "source": [
        "def check_special_characters(url):\n",
        "    special_characters = \"@!#$%^&*()[]{};:,./<>?\\|`~\"\n",
        "    for char in url:\n",
        "        if char in special_characters:\n",
        "            return True\n",
        "    return False\n",
        "\n",
        "# Example usage:\n",
        "url = \"https://www.example.com/path/to/page\"\n",
        "has_special_characters = check_special_characters(url)\n",
        "print(\"Presence of special characters in the URL:\", has_special_characters)"
      ],
      "metadata": {
        "colab": {
          "base_uri": "https://localhost:8080/"
        },
        "id": "RVcNcSCTL7fv",
        "outputId": "4562d9f8-2d49-44a1-defa-38388e16f6ef"
      },
      "execution_count": 3,
      "outputs": [
        {
          "output_type": "stream",
          "name": "stdout",
          "text": [
            "Presence of special characters in the URL: True\n"
          ]
        }
      ]
    },
    {
      "cell_type": "code",
      "source": [
        "def has_subdomains(url):\n",
        "    parts = url.split('.')\n",
        "    return len(parts) > 2  # If the URL has more than 2 parts, it has subdomains\n",
        "\n",
        "# Example usage:\n",
        "url = \"https://www.example.com/path/to/page\"\n",
        "has_subdomains = has_subdomains(url)\n",
        "print(\"Presence of subdomains in the URL:\", has_subdomains)"
      ],
      "metadata": {
        "colab": {
          "base_uri": "https://localhost:8080/"
        },
        "id": "iGGtIta1MA9z",
        "outputId": "b930a33e-5683-4018-d23a-b106085822c1"
      },
      "execution_count": 4,
      "outputs": [
        {
          "output_type": "stream",
          "name": "stdout",
          "text": [
            "Presence of subdomains in the URL: True\n"
          ]
        }
      ]
    },
    {
      "cell_type": "code",
      "source": [
        "from urllib.parse import urlparse\n",
        "\n",
        "def check_url_syntax(url):\n",
        "    try:\n",
        "        result = urlparse(url)\n",
        "        return all([result.scheme, result.netloc])\n",
        "    except ValueError:\n",
        "        return False\n",
        "\n",
        "# Example usage:\n",
        "url = \"https://www.example.com/path/to/page\"\n",
        "is_valid_url = check_url_syntax(url)\n",
        "print(\"Validity of the URL syntax:\", is_valid_url)"
      ],
      "metadata": {
        "colab": {
          "base_uri": "https://localhost:8080/"
        },
        "id": "iOMGRMioMGn4",
        "outputId": "d743c432-694e-451f-99fc-b918d4f219d7"
      },
      "execution_count": 5,
      "outputs": [
        {
          "output_type": "stream",
          "name": "stdout",
          "text": [
            "Validity of the URL syntax: True\n"
          ]
        }
      ]
    },
    {
      "cell_type": "code",
      "source": [
        "!pip install whois"
      ],
      "metadata": {
        "colab": {
          "base_uri": "https://localhost:8080/"
        },
        "id": "BczIS58IMdCE",
        "outputId": "7fc15523-d5c6-4ce5-97ae-002ddaee2089"
      },
      "execution_count": 7,
      "outputs": [
        {
          "output_type": "stream",
          "name": "stdout",
          "text": [
            "Collecting whois\n",
            "  Downloading whois-1.20240129.2-py3-none-any.whl (61 kB)\n",
            "\u001b[?25l     \u001b[90m━━━━━━━━━━━━━━━━━━━━━━━━━━━━━━━━━━━━━━━━\u001b[0m \u001b[32m0.0/61.8 kB\u001b[0m \u001b[31m?\u001b[0m eta \u001b[36m-:--:--\u001b[0m\r\u001b[2K     \u001b[91m━━━━━━━━━━━━━━━━━━━━━━━━━━━━━━━━━\u001b[0m\u001b[90m╺\u001b[0m\u001b[90m━━━━━━\u001b[0m \u001b[32m51.2/61.8 kB\u001b[0m \u001b[31m1.2 MB/s\u001b[0m eta \u001b[36m0:00:01\u001b[0m\r\u001b[2K     \u001b[90m━━━━━━━━━━━━━━━━━━━━━━━━━━━━━━━━━━━━━━━━\u001b[0m \u001b[32m61.8/61.8 kB\u001b[0m \u001b[31m1.1 MB/s\u001b[0m eta \u001b[36m0:00:00\u001b[0m\n",
            "\u001b[?25hInstalling collected packages: whois\n",
            "Successfully installed whois-1.20240129.2\n"
          ]
        }
      ]
    },
    {
      "cell_type": "code",
      "source": [
        "import whois\n",
        "from datetime import datetime\n",
        "\n",
        "def get_domain_age(domain_name):\n",
        "    try:\n",
        "        domain_info = whois.whois(domain_name)\n",
        "        if domain_info.creation_date:\n",
        "            registration_date = domain_info.creation_date\n",
        "            if isinstance(registration_date, list):\n",
        "                registration_date = registration_date[0]\n",
        "            today = datetime.now()\n",
        "            age = (today - registration_date).days\n",
        "            return age\n",
        "        else:\n",
        "            return \"Registration date not found\"\n",
        "    except Exception as e:\n",
        "        return str(e)\n",
        "\n",
        "# Example usage:\n",
        "domain_name = \"example.com\"\n",
        "age = get_domain_age(domain_name)\n",
        "print(\"Domain Age (in days):\", age)"
      ],
      "metadata": {
        "colab": {
          "base_uri": "https://localhost:8080/"
        },
        "id": "KglMvXrVMoh9",
        "outputId": "5e650cdd-63d2-418e-e0e0-1371ad16686f"
      },
      "execution_count": 8,
      "outputs": [
        {
          "output_type": "stream",
          "name": "stdout",
          "text": [
            "Domain Age (in days): module 'whois' has no attribute 'whois'\n"
          ]
        }
      ]
    },
    {
      "cell_type": "code",
      "source": [
        "import whois\n",
        "\n",
        "def get_whois_info(domain_name):\n",
        "    try:\n",
        "        domain_info = whois.whois(domain_name)\n",
        "        return domain_info\n",
        "    except Exception as e:\n",
        "        return str(e)\n",
        "\n",
        "# Example usage:\n",
        "domain_name = \"example.com\"\n",
        "whois_info = get_whois_info(domain_name)\n",
        "print(\"WHOIS Information:\", whois_info)"
      ],
      "metadata": {
        "colab": {
          "base_uri": "https://localhost:8080/"
        },
        "id": "YCOIG2LCMuzK",
        "outputId": "5f16affc-18e3-4948-f1ef-945bc0c01b44"
      },
      "execution_count": 9,
      "outputs": [
        {
          "output_type": "stream",
          "name": "stdout",
          "text": [
            "WHOIS Information: module 'whois' has no attribute 'whois'\n"
          ]
        }
      ]
    },
    {
      "cell_type": "code",
      "source": [
        "# Example list of known malicious domains (replace with actual data or API call)\n",
        "known_malicious_domains = [\"malicious1.com\", \"malicious2.net\", \"malicious3.org\"]\n",
        "\n",
        "def check_domain_reputation(domain_name):\n",
        "    # Placeholder code to check domain reputation\n",
        "    if domain_name in known_malicious_domains:\n",
        "        return \"Malicious\"\n",
        "    else:\n",
        "        return \"Safe\"\n",
        "\n",
        "# Example usage:\n",
        "domain_name = \"example.com\"\n",
        "reputation = check_domain_reputation(domain_name)\n",
        "print(\"Domain Reputation:\", reputation)"
      ],
      "metadata": {
        "colab": {
          "base_uri": "https://localhost:8080/"
        },
        "id": "DinwmbvmM1DL",
        "outputId": "5de29984-7ca0-46f5-d8c9-e611ad67af6e"
      },
      "execution_count": 11,
      "outputs": [
        {
          "output_type": "stream",
          "name": "stdout",
          "text": [
            "Domain Reputation: Safe\n"
          ]
        }
      ]
    },
    {
      "cell_type": "code",
      "source": [
        "!pip install requests beautifulsoup4 google"
      ],
      "metadata": {
        "colab": {
          "base_uri": "https://localhost:8080/"
        },
        "id": "1vhlSzs7M60m",
        "outputId": "cc3011c0-b0af-408b-ce52-ebc2b9e4cb9c"
      },
      "execution_count": 12,
      "outputs": [
        {
          "output_type": "stream",
          "name": "stdout",
          "text": [
            "Requirement already satisfied: requests in /usr/local/lib/python3.10/dist-packages (2.31.0)\n",
            "Requirement already satisfied: beautifulsoup4 in /usr/local/lib/python3.10/dist-packages (4.12.3)\n",
            "Requirement already satisfied: google in /usr/local/lib/python3.10/dist-packages (2.0.3)\n",
            "Requirement already satisfied: charset-normalizer<4,>=2 in /usr/local/lib/python3.10/dist-packages (from requests) (3.3.2)\n",
            "Requirement already satisfied: idna<4,>=2.5 in /usr/local/lib/python3.10/dist-packages (from requests) (3.6)\n",
            "Requirement already satisfied: urllib3<3,>=1.21.1 in /usr/local/lib/python3.10/dist-packages (from requests) (2.0.7)\n",
            "Requirement already satisfied: certifi>=2017.4.17 in /usr/local/lib/python3.10/dist-packages (from requests) (2024.2.2)\n",
            "Requirement already satisfied: soupsieve>1.2 in /usr/local/lib/python3.10/dist-packages (from beautifulsoup4) (2.5)\n"
          ]
        }
      ]
    },
    {
      "cell_type": "code",
      "source": [
        "import requests\n",
        "from bs4 import BeautifulSoup\n",
        "from googlesearch import search\n",
        "\n",
        "def check_https(url):\n",
        "    response = requests.get(url)\n",
        "    return response.url.startswith(\"https\")\n",
        "\n",
        "def calculate_page_rank(url):\n",
        "    # Placeholder code for calculating page rank (using sample implementation)\n",
        "    # This is just an example, you would typically use a more sophisticated algorithm\n",
        "    return len(url)\n",
        "\n",
        "def count_outbound_links(url):\n",
        "    response = requests.get(url)\n",
        "    soup = BeautifulSoup(response.content, \"html.parser\")\n",
        "    outbound_links = soup.find_all(\"a\", href=True)\n",
        "    return len(outbound_links)\n",
        "\n",
        "# Example URL\n",
        "url = \"https://example.com\"\n",
        "\n",
        "# Check for presence of HTTPS\n",
        "https_present = check_https(url)\n",
        "print(\"HTTPS Encryption Present:\", https_present)\n",
        "\n",
        "# Calculate Page Rank\n",
        "page_rank = calculate_page_rank(url)\n",
        "print(\"Page Rank:\", page_rank)\n",
        "\n",
        "# Count the number of outbound links\n",
        "outbound_links_count = count_outbound_links(url)\n",
        "print(\"Number of Outbound Links:\", outbound_links_count)"
      ],
      "metadata": {
        "colab": {
          "base_uri": "https://localhost:8080/"
        },
        "id": "DVT6XjLVNsLx",
        "outputId": "51e0189d-511c-4312-f5ed-a12f13a6e427"
      },
      "execution_count": 13,
      "outputs": [
        {
          "output_type": "stream",
          "name": "stdout",
          "text": [
            "HTTPS Encryption Present: True\n",
            "Page Rank: 19\n",
            "Number of Outbound Links: 1\n"
          ]
        }
      ]
    },
    {
      "cell_type": "code",
      "source": [
        "import requests\n",
        "from bs4 import BeautifulSoup\n",
        "import re\n",
        "\n",
        "def analyze_page_content(url, keywords):\n",
        "    response = requests.get(url)\n",
        "    soup = BeautifulSoup(response.content, \"html.parser\")\n",
        "    page_content = soup.get_text().lower()\n",
        "    suspicious_keywords = [keyword for keyword in keywords if keyword.lower() in page_content]\n",
        "    return suspicious_keywords\n",
        "\n",
        "def check_for_malware(url):\n",
        "    # Placeholder code for checking for malware (using sample method)\n",
        "    # This is just an example, you would typically use a more robust malware detection system\n",
        "    return False\n",
        "\n",
        "# Example URL\n",
        "url = \"https://example.com\"\n",
        "\n",
        "# Keywords to analyze for in the page content\n",
        "keywords_to_analyze = [\"phishing\", \"fraud\", \"malicious\", \"attack\", \"scam\"]\n",
        "\n",
        "# Analyze page content for suspicious keywords\n",
        "suspicious_keywords = analyze_page_content(url, keywords_to_analyze)\n",
        "print(\"Suspicious Keywords Found:\", suspicious_keywords)\n",
        "\n",
        "# Check for presence of malware\n",
        "malware_present = check_for_malware(url)\n",
        "print(\"Malware Present:\", malware_present)"
      ],
      "metadata": {
        "colab": {
          "base_uri": "https://localhost:8080/"
        },
        "id": "zAuDx158NypC",
        "outputId": "2a3f66da-3ffe-4eef-b140-2b14056bd90c"
      },
      "execution_count": 14,
      "outputs": [
        {
          "output_type": "stream",
          "name": "stdout",
          "text": [
            "Suspicious Keywords Found: []\n",
            "Malware Present: False\n"
          ]
        }
      ]
    },
    {
      "cell_type": "code",
      "source": [],
      "metadata": {
        "id": "9rL8dh9qOJKj"
      },
      "execution_count": null,
      "outputs": []
    }
  ]
}